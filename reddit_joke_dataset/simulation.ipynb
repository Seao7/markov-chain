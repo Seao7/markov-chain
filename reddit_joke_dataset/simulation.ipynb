{
 "cells": [
  {
   "cell_type": "code",
   "execution_count": 102,
   "id": "5f371c0c",
   "metadata": {},
   "outputs": [],
   "source": [
    "import re\n",
    "import json\n",
    "import random\n",
    "from tqdm import tqdm\n",
    "import matplotlib.pyplot as plt"
   ]
  },
  {
   "cell_type": "code",
   "execution_count": null,
   "id": "e48779b8",
   "metadata": {},
   "outputs": [],
   "source": [
    "with open(\"reddit_jokes.json\", \"r\") as file:\n",
    "    joke_dict = json.load(file)"
   ]
  },
  {
   "cell_type": "code",
   "execution_count": null,
   "id": "9a403112",
   "metadata": {},
   "outputs": [],
   "source": [
    "def clean_text(text):\n",
    "    text = re.sub(r'[^a-zA-Z?.\\s]', '', text)\n",
    "    text = text.replace(\"\\\\\", \" \")\n",
    "    text = text.lower()\n",
    "    text = re.sub(r'\\s+', ' ', text)\n",
    "    text = re.sub(r'[?.]', '#', text)\n",
    "    text = re.sub(r'#+', '#', text)\n",
    "    text = re.sub(r'\\s*#\\s*', '#', text)\n",
    "    text = text.replace(\" \", \"@\")\n",
    "    return text\n",
    "\n",
    "def sample_from_dictionary(prob_dict):\n",
    "    chars = list(prob_dict.keys())\n",
    "    probs = [float(prob_dict[c]) for c in chars]\n",
    "    return random.choices(chars, weights=probs, k=1)[0]\n",
    "\n",
    "def display_sentence(sentence):\n",
    "    sentence = sentence.replace(\"@\", \" \")\n",
    "    sentence = sentence.replace(\"#\", '\\n')\n",
    "    print(sentence)\n"
   ]
  },
  {
   "cell_type": "code",
   "execution_count": 183,
   "id": "8d536035",
   "metadata": {},
   "outputs": [
    {
     "name": "stderr",
     "output_type": "stream",
     "text": [
      "100%|██████████| 50000/50000 [01:55<00:00, 433.90it/s] \n"
     ]
    }
   ],
   "source": [
    "# Extracting body and title from the List of Dictionaries\n",
    "text = \"\"\n",
    "for joke in tqdm(joke_dict[:50000]):\n",
    "    text = text + joke['body'] + \" \" + joke['title'] + \".\"\n",
    "\n",
    "text = clean_text(text)"
   ]
  },
  {
   "cell_type": "code",
   "execution_count": 184,
   "id": "453a62bd",
   "metadata": {},
   "outputs": [],
   "source": [
    "# Finding out the character probabilities using frequency\n",
    "independent_frequencies = {}\n",
    "for character in text:\n",
    "    if character not in independent_frequencies:\n",
    "        independent_frequencies[character] = 1\n",
    "    else:\n",
    "        independent_frequencies[character] += 1"
   ]
  },
  {
   "cell_type": "code",
   "execution_count": 185,
   "id": "237a3a57",
   "metadata": {},
   "outputs": [
    {
     "data": {
      "image/png": "[encoded data removed]",
      "text/plain": [
       "<Figure size 720x360 with 1 Axes>"
      ]
     },
     "metadata": {
      "needs_background": "light"
     },
     "output_type": "display_data"
    }
   ],
   "source": [
    "# Let's visualise the character probabilities\n",
    "keys = sorted(independent_frequencies.keys())\n",
    "values = [independent_frequencies[k] for k in keys]\n",
    "\n",
    "plt.figure(figsize=(10, 5))\n",
    "plt.bar(keys, values, color='skyblue')\n",
    "plt.xlabel('Alphabet')\n",
    "plt.ylabel('Frequency')\n",
    "plt.title('Letter Frequency')\n",
    "plt.grid(axis='y', linestyle='--', alpha=0.7)\n",
    "plt.show()"
   ]
  },
  {
   "cell_type": "code",
   "execution_count": 186,
   "id": "2057b544",
   "metadata": {},
   "outputs": [],
   "source": [
    "# Convert the frequencies into probabilities\n",
    "total_characters = sum(values)\n",
    "independent_probabilities = {}\n",
    "for key in independent_frequencies:\n",
    "    independent_probabilities[key] = independent_frequencies[key]/total_characters"
   ]
  },
  {
   "cell_type": "code",
   "execution_count": 187,
   "id": "a0227599",
   "metadata": {},
   "outputs": [
    {
     "name": "stderr",
     "output_type": "stream",
     "text": [
      "100%|██████████| 28/28 [00:29<00:00,  1.07s/it]\n"
     ]
    }
   ],
   "source": [
    "# Finding out the transition probabilities\n",
    "transition_probabilities = {}\n",
    "for character in tqdm(independent_frequencies.keys()):\n",
    "    transition_frequency = {}\n",
    "    for i in range(len(text)):\n",
    "        if ((text[i] == character) and (i != len(text)-1)):\n",
    "            transition_frequency[text[i+1]] = transition_frequency.get(text[i+1], 0) + 1\n",
    "\n",
    "    transition_probability = {}\n",
    "    total_count_a = sum(list(transition_frequency.values()))\n",
    "    for key in transition_frequency:\n",
    "        transition_probability[key] = transition_frequency[key]/total_count_a\n",
    "    transition_probabilities[character] = transition_probability"
   ]
  },
  {
   "cell_type": "code",
   "execution_count": 196,
   "id": "2641c539",
   "metadata": {},
   "outputs": [
    {
     "name": "stdout",
     "output_type": "stream",
     "text": [
      "ansosain wale d o bous te ave coupa njun shet le thetelas\n",
      "\n"
     ]
    }
   ],
   "source": [
    "# Let's create our first sentence\n",
    "# Our seed character will be \"#\", indicating the beginning of the sentence - and we will end when we get another \"#\"\n",
    "seed_character = \"#\"\n",
    "predicted_character = sample_from_dictionary(transition_probabilities[seed_character])\n",
    "sentence = predicted_character\n",
    "\n",
    "while(predicted_character != \"#\"):\n",
    "    predicted_character = sample_from_dictionary(transition_probabilities[predicted_character])\n",
    "    sentence = sentence + predicted_character\n",
    "\n",
    "display_sentence(sentence)"
   ]
  },
  {
   "cell_type": "code",
   "execution_count": null,
   "id": "7de3c34b",
   "metadata": {},
   "outputs": [],
   "source": []
  }
 ],
 "metadata": {
  "kernelspec": {
   "display_name": "Python 3",
   "language": "python",
   "name": "python3"
  },
  "language_info": {
   "codemirror_mode": {
    "name": "ipython",
    "version": 3
   },
   "file_extension": ".py",
   "mimetype": "text/x-python",
   "name": "python",
   "nbconvert_exporter": "python",
   "pygments_lexer": "ipython3",
   "version": "3.10.2"
  }
 },
 "nbformat": 4,
 "nbformat_minor": 5
}
